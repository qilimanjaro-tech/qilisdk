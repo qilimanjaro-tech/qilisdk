{
 "cells": [
  {
   "cell_type": "markdown",
   "id": "24e317f0",
   "metadata": {},
   "source": [
    "# Quantum Objects"
   ]
  },
  {
   "cell_type": "code",
   "execution_count": 1,
   "id": "3d718f08",
   "metadata": {},
   "outputs": [],
   "source": [
    "import numpy as np\n",
    "\n",
    "from qilisdk.core import QTensor\n",
    "from qilisdk.core.qtensor import basis_state, bra, ket, expect_val"
   ]
  },
  {
   "cell_type": "code",
   "execution_count": 2,
   "id": "b98626ac",
   "metadata": {},
   "outputs": [
    {
     "name": "stdout",
     "output_type": "stream",
     "text": [
      "Ket: [[1]\n",
      " [0]] is_ket? True\n",
      "--------------------\n",
      "Bra: [[1 0]] is_bra? True\n",
      "--------------------\n",
      "Density matrix:\n",
      " [[1 0]\n",
      " [0 0]] is_density_matrix? True\n",
      "--------------------\n",
      "Scalar: [[0.5]] is_scalar? True\n"
     ]
    }
   ],
   "source": [
    "# 1‑qubit |0> ket\n",
    "psi_ket = QTensor(np.array([[1], [0]]))\n",
    "print(\"Ket:\", psi_ket.dense, \"is_ket?\", psi_ket.is_ket())\n",
    "print(\"-\" * 20)\n",
    "\n",
    "# 1‑qubit <0| bra\n",
    "psi_bra = QTensor(np.array([[1, 0]]))\n",
    "print(\"Bra:\", psi_bra.dense, \"is_bra?\", psi_bra.is_bra())\n",
    "print(\"-\" * 20)\n",
    "\n",
    "# Density matrix |0><0|\n",
    "rho = QTensor(np.array([[1, 0], [0, 0]]))\n",
    "print(\"Density matrix:\\n\", rho.dense, \"is_density_matrix?\", rho.is_density_matrix())\n",
    "print(\"-\" * 20)\n",
    "\n",
    "# Scalar 0.5\n",
    "scalar = QTensor(np.array([[0.5]]))\n",
    "print(\"Scalar:\", scalar.dense, \"is_scalar?\", scalar.is_scalar())"
   ]
  },
  {
   "cell_type": "code",
   "execution_count": 3,
   "id": "0f06dcdc",
   "metadata": {},
   "outputs": [
    {
     "name": "stdout",
     "output_type": "stream",
     "text": [
      "ket(0): [[1.]\n",
      " [0.]] is_ket? True\n",
      "bra(1): [[0. 1.]] is_bra? True\n",
      "basis_state(2,4): [[0.]\n",
      " [0.]\n",
      " [1.]\n",
      " [0.]] shape: (4, 1)\n"
     ]
    }
   ],
   "source": [
    "# Single‑qubit\n",
    "print(\"ket(0):\", ket(0).dense, \"is_ket?\", ket(0).is_ket())\n",
    "print(\"bra(1):\", bra(1).dense, \"is_bra?\", bra(1).is_bra())\n",
    "\n",
    "# Fock basis in N=4 Hilbert space\n",
    "print(\"basis_state(2,4):\", basis_state(2, 4).dense, \"shape:\", basis_state(2, 4).shape)"
   ]
  },
  {
   "cell_type": "code",
   "execution_count": 4,
   "id": "9e8782d7",
   "metadata": {},
   "outputs": [
    {
     "name": "stdout",
     "output_type": "stream",
     "text": [
      "A:\n",
      " [[1.+1.j 2.+0.j]\n",
      " [3.+0.j 4.+0.j]]\n",
      "A†:\n",
      " [[1.-1.j 3.+0.j]\n",
      " [2.+0.j 4.+0.j]]\n",
      "exp(X):\n",
      " [[1.543 1.175]\n",
      " [1.175 1.543]]\n",
      "||ket0|| = 1.0\n",
      "trace norm(dm) = 1.0\n",
      "rho_bell:\n",
      " QTensor(shape=4x4, nnz=4, format='csr')\n",
      "[[0.5 0.  0.  0.5]\n",
      " [0.  0.  0.  0. ]\n",
      " [0.  0.  0.  0. ]\n",
      " [0.5 0.  0.  0.5]]\n",
      "rho_A:\n",
      " [[0.5 0. ]\n",
      " [0.  0.5]]\n"
     ]
    }
   ],
   "source": [
    "# Adjoint of a non-Hermitian operator\n",
    "A = QTensor(np.array([[1 + 1j, 2], [3, 4]]))\n",
    "A_dag = A.adjoint()\n",
    "print(\"A:\\n\", A.dense)\n",
    "print(\"A†:\\n\", A_dag.dense)\n",
    "\n",
    "# Matrix exponential of Pauli-X\n",
    "X = QTensor(np.array([[0, 1], [1, 0]]))\n",
    "expX = X.expm()\n",
    "print(\"exp(X):\\n\", np.round(expX.dense, 3))\n",
    "\n",
    "# Norm of a ket and a density matrix\n",
    "ket0 = QTensor(np.array([[1], [0]]))\n",
    "dm = ket0.to_density_matrix()\n",
    "print(\"||ket0|| =\", ket0.norm())\n",
    "print(\"trace norm(dm) =\", dm.norm(order=\"tr\"))\n",
    "\n",
    "# Partial trace of a Bell state\n",
    "from qilisdk.core.qtensor import ket, tensor_prod\n",
    "\n",
    "bell = (tensor_prod([ket(0), ket(0)]) + tensor_prod([ket(1), ket(1)])).unit()\n",
    "rho_bell = bell.to_density_matrix()\n",
    "print(\"rho_bell:\\n\", rho_bell)\n",
    "rhoA = rho_bell.ptrace([0])\n",
    "print(\"rho_A:\\n\", rhoA.dense)"
   ]
  },
  {
   "cell_type": "code",
   "execution_count": 5,
   "id": "a1e04662",
   "metadata": {},
   "outputs": [
    {
     "name": "stdout",
     "output_type": "stream",
     "text": [
      "H ⊗ H:\n",
      " [[ 0.5  0.5  0.5  0.5]\n",
      " [ 0.5 -0.5  0.5 -0.5]\n",
      " [ 0.5  0.5 -0.5 -0.5]\n",
      " [ 0.5 -0.5 -0.5  0.5]]\n",
      "⟨ZZ⟩ on |00> = (1+0j)\n"
     ]
    }
   ],
   "source": [
    "# Two‑qubit Hadamard tensor\n",
    "H = QTensor(np.array([[1, 1], [1, -1]]) / np.sqrt(2))\n",
    "H2 = tensor_prod([H, H])\n",
    "print(\"H ⊗ H:\\n\", np.round(H2.dense, 3))\n",
    "\n",
    "# Expectation of Z⊗Z on |00>\n",
    "Z = QTensor(np.array([[1, 0], [0, -1]]))\n",
    "zz = tensor_prod([Z, Z])\n",
    "psi00 = tensor_prod([ket(0), ket(0)])\n",
    "rho00 = psi00.to_density_matrix()\n",
    "ev = expect_val(zz, rho00)\n",
    "print(\"⟨ZZ⟩ on |00> =\", ev)"
   ]
  }
 ],
 "metadata": {
  "kernelspec": {
   "display_name": "qilisdk",
   "language": "python",
   "name": "python3"
  },
  "language_info": {
   "codemirror_mode": {
    "name": "ipython",
    "version": 3
   },
   "file_extension": ".py",
   "mimetype": "text/x-python",
   "name": "python",
   "nbconvert_exporter": "python",
   "pygments_lexer": "ipython3",
   "version": "3.10.16"
  }
 },
 "nbformat": 4,
 "nbformat_minor": 5
}
