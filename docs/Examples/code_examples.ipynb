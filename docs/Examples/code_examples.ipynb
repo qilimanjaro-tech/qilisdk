{
 "cells": [
  {
   "cell_type": "markdown",
   "id": "4db30c26",
   "metadata": {},
   "source": [
    "# Code Example"
   ]
  },
  {
   "cell_type": "markdown",
   "id": "9470a9fa",
   "metadata": {},
   "source": [
    "** THIS IS JUST A PLACE HOLDER PLEASE IGNORE ** \n"
   ]
  },
  {
   "cell_type": "markdown",
   "id": "28f51953",
   "metadata": {},
   "source": [
    "## Digital Circuits"
   ]
  },
  {
   "cell_type": "code",
   "execution_count": 1,
   "id": "19236898",
   "metadata": {},
   "outputs": [
    {
     "name": "stdout",
     "output_type": "stream",
     "text": [
      "Initial parameters: [3.141592653589793]\n",
      "Simulation Results:\n",
      "SamplingResult(\n",
      "  nshots=1000,\n",
      "  samples={'00': 517, '11': 483}\n",
      ")\n",
      "Probabilities: {'11': 0.483, '00': 0.517}\n"
     ]
    }
   ],
   "source": [
    "import numpy as np\n",
    "\n",
    "from qilisdk.digital import CNOT, RX, Circuit, H, M\n",
    "from qilisdk.backends import QutipBackend\n",
    "from qilisdk.functionals import Sampling\n",
    "\n",
    "# Create a circuit with 2 qubits\n",
    "circuit = Circuit(2)\n",
    "circuit.add(H(0))  # Apply Hadamard on qubit 0\n",
    "circuit.add(RX(0, theta=np.pi))  # Apply RX rotation on qubit 0con\n",
    "circuit.add(CNOT(0, 1))  # Add a CNOT gate between qubit 0 and 1\n",
    "\n",
    "# Retrieve the current gate parameters\n",
    "print(\"Initial parameters:\", circuit.get_parameter_values())\n",
    "\n",
    "# Update circuit parameters (e.g., update RX rotation angle)\n",
    "circuit.set_parameter_values([2 * np.pi])\n",
    "\n",
    "# Execute the circuit simulation using QutipBackend\n",
    "backend = QutipBackend()\n",
    "results = backend.execute(Sampling(circuit))\n",
    "\n",
    "# Display the simulation output and measurement probabilities\n",
    "print(\"Simulation Results:\")\n",
    "print(results)\n",
    "print(\"Probabilities:\", results.probabilities)"
   ]
  },
  {
   "cell_type": "markdown",
   "id": "54a7a59a",
   "metadata": {},
   "source": [
    "## Hamiltonians"
   ]
  },
  {
   "cell_type": "code",
   "execution_count": 2,
   "id": "168a848e",
   "metadata": {},
   "outputs": [
    {
     "name": "stdout",
     "output_type": "stream",
     "text": [
      "Hamiltonian Expression: -2j Y(0)\n",
      "Coefficient: -2j Operators: [Y(0)]\n",
      "True\n"
     ]
    }
   ],
   "source": [
    "from qilisdk.analog import Hamiltonian, X, Z\n",
    "\n",
    "# Build a Hamiltonian expression using Pauli operators\n",
    "H_expr = (Z(0) + X(0)) * (Z(0) - X(0))\n",
    "print(\"Hamiltonian Expression:\", H_expr)\n",
    "\n",
    "# Iterate over Hamiltonian terms\n",
    "for coeff, ops in H_expr:\n",
    "    print(\"Coefficient:\", coeff, \"Operators:\", ops)\n",
    "\n",
    "# Parse a Hamiltonian from its string representation\n",
    "parsed_H = Hamiltonian.parse(\"-2j Y(0)\")\n",
    "print(H_expr == parsed_H)"
   ]
  },
  {
   "cell_type": "code",
   "execution_count": 3,
   "id": "c39a9d5f",
   "metadata": {},
   "outputs": [
    {
     "name": "stdout",
     "output_type": "stream",
     "text": [
      "3 Z(0) - 2j Y(1) + 3 Z(1)\n",
      "(3+0j) [Z(0)]\n",
      "-2j [Y(1)]\n",
      "(3+0j) [Z(1)]\n"
     ]
    }
   ],
   "source": [
    "H = Z(0) + 2 * X(1) * Z(1) + 3 * Z(1) + 2 * Z(0)\n",
    "\n",
    "print(H)\n",
    "for coeff, op in H:\n",
    "    print(coeff, op)"
   ]
  },
  {
   "cell_type": "markdown",
   "id": "7d57956f",
   "metadata": {},
   "source": [
    "## Analog Time-Evolution Simulation"
   ]
  },
  {
   "cell_type": "code",
   "execution_count": 4,
   "id": "4afe02c8",
   "metadata": {},
   "outputs": [
    {
     "name": "stdout",
     "output_type": "stream",
     "text": [
      "Time Evolution Results: TimeEvolutionResult(\n",
      "  final_expected_values=array([ 0.99426886, -0.01322734,  0.10608707]),\n",
      "  expected_values=array([[ 0.00000000e+00,  1.00000000e+00,  0.00000000e+00],\n",
      "       [-1.19420124e-09,  1.00000000e+00,  2.43282688e-06],\n",
      "       [ 1.97549858e-04,  9.99997984e-01,  1.99816005e-03],\n",
      "       [ 9.76438099e-04,  9.99981916e-01,  5.93418774e-03],\n",
      "       [ 2.68656871e-03,  9.99928468e-01,  1.16550558e-02],\n",
      "       [ 5.63154892e-03,  9.99804577e-01,  1.89497368e-02],\n",
      "       [ 1.00618836e-02,  9.99568682e-01,  2.75900245e-02],\n",
      "       [ 1.61724846e-02,  9.99174172e-01,  3.72749836e-02],\n",
      "       [ 2.40908416e-02,  9.98571728e-01,  4.76879030e-02],\n",
      "       [ 3.38808586e-02,  9.97711109e-01,  5.85203383e-02],\n",
      "       [ 4.55466009e-02,  9.96544807e-01,  6.94546953e-02],\n",
      "       [ 5.90360431e-02,  9.95029771e-01,  8.01903972e-02],\n",
      "       [ 7.42449136e-02,  9.93128240e-01,  9.04654192e-02],\n",
      "       [ 9.10273659e-02,  9.90814072e-01,  1.00007469e-01],\n",
      "       [ 1.09195789e-01,  9.88069238e-01,  1.08606908e-01],\n",
      "       [ 1.28538840e-01,  9.84883293e-01,  1.16114878e-01],\n",
      "       [ 1.48824276e-01,  9.81263278e-01,  1.22367127e-01],\n",
      "       [ 1.69807686e-01,  9.77218749e-01,  1.27314045e-01],\n",
      "       [ 1.91246273e-01,  9.72774000e-01,  1.30903045e-01],\n",
      "       [ 2.12897454e-01,  9.67963843e-01,  1.33119019e-01],\n",
      "       [ 2.34533789e-01,  9.62824732e-01,  1.34024019e-01],\n",
      "       [ 2.55943875e-01,  9.57404469e-01,  1.33676536e-01],\n",
      "       [ 2.76936597e-01,  9.51752065e-01,  1.32189743e-01],\n",
      "       [ 2.97349368e-01,  9.45919702e-01,  1.29689132e-01],\n",
      "       [ 3.17045265e-01,  9.39959658e-01,  1.26325535e-01],\n",
      "       [ 3.35916994e-01,  9.33919517e-01,  1.22286993e-01],\n",
      "       [ 3.53894691e-01,  9.27845566e-01,  1.17733401e-01],\n",
      "       [ 3.70931669e-01,  9.21778040e-01,  1.12849201e-01],\n",
      "       [ 3.87012631e-01,  9.15747040e-01,  1.07835902e-01],\n",
      "       [ 4.02153033e-01,  9.09776299e-01,  1.02859244e-01],\n",
      "       [ 4.16389676e-01,  9.03878908e-01,  9.80946363e-02],\n",
      "       [ 4.29782579e-01,  8.98057481e-01,  9.37000249e-02],\n",
      "       [ 4.42413404e-01,  8.92299796e-01,  8.98412716e-02],\n",
      "       [ 4.54379212e-01,  8.86585360e-01,  8.66367708e-02],\n",
      "       [ 4.65789162e-01,  8.80880060e-01,  8.42067492e-02],\n",
      "       [ 4.76762719e-01,  8.75140321e-01,  8.26240188e-02],\n",
      "       [ 4.87420321e-01,  8.69312768e-01,  8.19557329e-02],\n",
      "       [ 4.97888960e-01,  8.63330509e-01,  8.22618737e-02],\n",
      "       [ 5.08291305e-01,  8.57122481e-01,  8.35523930e-02],\n",
      "       [ 5.18745329e-01,  8.50610151e-01,  8.58233885e-02],\n",
      "       [ 5.29361959e-01,  8.43709263e-01,  8.90538935e-02],\n",
      "       [ 5.40241851e-01,  8.36333393e-01,  9.31944086e-02],\n",
      "       [ 5.51471801e-01,  8.28394240e-01,  9.81928488e-02],\n",
      "       [ 5.63129716e-01,  8.19803072e-01,  1.03960796e-01],\n",
      "       [ 5.75274756e-01,  8.10477148e-01,  1.10389076e-01],\n",
      "       [ 5.87949115e-01,  8.00338458e-01,  1.17363500e-01],\n",
      "       [ 6.01176290e-01,  7.89314328e-01,  1.24779645e-01],\n",
      "       [ 6.14971571e-01,  7.77340579e-01,  1.32482418e-01],\n",
      "       [ 6.29324353e-01,  7.64369812e-01,  1.40319812e-01],\n",
      "       [ 6.44210597e-01,  7.50361282e-01,  1.48157526e-01],\n",
      "       [ 6.59589083e-01,  7.35288514e-01,  1.55862256e-01],\n",
      "       [ 6.75407972e-01,  7.19142676e-01,  1.63272420e-01],\n",
      "       [ 6.91601476e-01,  7.01932320e-01,  1.70230480e-01],\n",
      "       [ 7.08092879e-01,  6.83685642e-01,  1.76574115e-01],\n",
      "       [ 7.24790002e-01,  6.64447430e-01,  1.82178663e-01],\n",
      "       [ 7.41595363e-01,  6.44281817e-01,  1.86915109e-01],\n",
      "       [ 7.58405475e-01,  6.23269860e-01,  1.90672013e-01],\n",
      "       [ 7.75113636e-01,  6.01511951e-01,  1.93344834e-01],\n",
      "       [ 7.91610903e-01,  5.79123262e-01,  1.94854884e-01],\n",
      "       [ 8.07789990e-01,  5.56237895e-01,  1.95127488e-01],\n",
      "       [ 8.23544773e-01,  5.33004582e-01,  1.94113687e-01],\n",
      "       [ 8.38774097e-01,  5.09574232e-01,  1.91812714e-01],\n",
      "       [ 8.53386148e-01,  4.86117682e-01,  1.88206487e-01],\n",
      "       [ 8.67294839e-01,  4.62808241e-01,  1.83325376e-01],\n",
      "       [ 8.80428016e-01,  4.39824177e-01,  1.77203843e-01],\n",
      "       [ 8.92722122e-01,  4.17343650e-01,  1.69916128e-01],\n",
      "       [ 9.04126740e-01,  3.95540752e-01,  1.61562221e-01],\n",
      "       [ 9.14606494e-01,  3.74579983e-01,  1.52265548e-01],\n",
      "       [ 9.24141196e-01,  3.54616741e-01,  1.42161937e-01],\n",
      "       [ 9.32723717e-01,  3.35790108e-01,  1.31420969e-01],\n",
      "       [ 9.40363858e-01,  3.18217186e-01,  1.20223281e-01],\n",
      "       [ 9.47084821e-01,  3.01995465e-01,  1.08761575e-01],\n",
      "       [ 9.52923255e-01,  2.87192188e-01,  9.72518271e-02],\n",
      "       [ 9.57928810e-01,  2.73844238e-01,  8.59169842e-02],\n",
      "       [ 9.62162878e-01,  2.61956010e-01,  7.49776334e-02],\n",
      "       [ 9.65696219e-01,  2.51497584e-01,  6.46512014e-02],\n",
      "       [ 9.68606769e-01,  2.42402412e-01,  5.51543102e-02],\n",
      "       [ 9.70977941e-01,  2.34567546e-01,  4.66894502e-02],\n",
      "       [ 9.72895952e-01,  2.27854119e-01,  3.94457511e-02],\n",
      "       [ 9.74448312e-01,  2.22088096e-01,  3.35762498e-02],\n",
      "       [ 9.75719648e-01,  2.17066318e-01,  2.92126923e-02],\n",
      "       [ 9.76790369e-01,  2.12558285e-01,  2.64490054e-02],\n",
      "       [ 9.77734190e-01,  2.08311178e-01,  2.53437577e-02],\n",
      "       [ 9.78616297e-01,  2.04056109e-01,  2.59084598e-02],\n",
      "       [ 9.79491315e-01,  1.99517069e-01,  2.81016595e-02],\n",
      "       [ 9.80401739e-01,  1.94419654e-01,  3.18343804e-02],\n",
      "       [ 9.81377314e-01,  1.88496349e-01,  3.69823481e-02],\n",
      "       [ 9.82434927e-01,  1.81499777e-01,  4.33525777e-02],\n",
      "       [ 9.83578062e-01,  1.73211745e-01,  5.07137741e-02],\n",
      "       [ 9.84798018e-01,  1.63451927e-01,  5.87905744e-02],\n",
      "       [ 9.86074841e-01,  1.52087947e-01,  6.72730573e-02],\n",
      "       [ 9.87379338e-01,  1.39042934e-01,  7.58228545e-02],\n",
      "       [ 9.88675213e-01,  1.24303401e-01,  8.40832138e-02],\n",
      "       [ 9.89921683e-01,  1.07920987e-01,  9.16958144e-02],\n",
      "       [ 9.91076626e-01,  9.00197644e-02,  9.83034270e-02],\n",
      "       [ 9.92099322e-01,  7.07939313e-02,  1.03571976e-01],\n",
      "       [ 9.92953490e-01,  5.05056480e-02,  1.07203298e-01],\n",
      "       [ 9.93610447e-01,  2.94799940e-02,  1.08945901e-01],\n",
      "       [ 9.94051284e-01,  8.09531131e-03,  1.08611739e-01],\n",
      "       [ 9.94268863e-01, -1.32273391e-02,  1.06087067e-01]])\n",
      "  final_state=[[-0.22177525-0.97362733j]\n",
      " [ 0.05326401-0.0053398j ]]\n",
      "  intermediate_states=[[[0.70710678+0.j]\n",
      " [0.70710678+0.j]],\n",
      " [[0.7035742 -0.07059276j]\n",
      " [0.70357438-0.07059105j]],\n",
      " [[0.69308119-0.14048928j]\n",
      " [0.69322357-0.13907664j]],\n",
      " [[0.6758671 -0.20902603j]\n",
      " [0.67643478-0.20481154j]],\n",
      " [[0.65222671-0.27557867j]\n",
      " [0.6536359 -0.26723926j]],\n",
      " [[0.62250386-0.33956548j]\n",
      " [0.6252955 -0.3258677j ]],\n",
      " [[0.58708494-0.40045252j]\n",
      " [0.59192434-0.38025602j]],\n",
      " [[0.54639401-0.45775521j]\n",
      " [0.55404531-0.43005529j]],\n",
      " [[0.50088385-0.51103893j]\n",
      " [0.51219951-0.47498025j]],\n",
      " [[0.45103147-0.55992057j]\n",
      " [0.46694534-0.51480251j]],\n",
      " [[0.39733198-0.60407003j]\n",
      " [0.41883797-0.54936459j]],\n",
      " [[0.34029403-0.64320914j]\n",
      " [0.36843117-0.57856759j]],\n",
      " [[0.28043288-0.6771114j ]\n",
      " [0.31627888-0.60236634j]],\n",
      " [[0.21826812-0.70560096j]\n",
      " [0.26289761-0.6207827j ]],\n",
      " [[0.15431602-0.72854956j]\n",
      " [0.20880031-0.63388054j]],\n",
      " [[0.08908717-0.74587727j]\n",
      " [0.15448995-0.64176587j]],\n",
      " [[0.02308454-0.75754818j]\n",
      " [0.10040787-0.64459764j]],\n",
      " [[-0.04320386-0.76356877j]\n",
      " [ 0.04701064-0.64256218j]],\n",
      " [[-0.10930431-0.76398672j]\n",
      " [-0.00530554-0.6358842j ]],\n",
      " [[-0.17476024-0.75888575j]\n",
      " [-0.05617909-0.62481612j]],\n",
      " [[-0.23913764-0.74838498j]\n",
      " [-0.10525923-0.60963399j]],\n",
      " [[-0.3020221 -0.73263537j]\n",
      " [-0.15225294-0.5906328j ]],\n",
      " [[-0.36302387-0.71181597j]\n",
      " [-0.19688835-0.56812558j]],\n",
      " [[-0.42177694-0.6861333j ]\n",
      " [-0.2389357 -0.54243437j]],\n",
      " [[-0.47794064-0.65581657j]\n",
      " [-0.27819738-0.51389063j]],\n",
      " [[-0.53120159-0.62111462j]\n",
      " [-0.31449955-0.48283697j]],\n",
      " [[-0.58127094-0.58229842j]\n",
      " [-0.3477181 -0.44960514j]],\n",
      " [[-0.62788654-0.53965204j]\n",
      " [-0.3777524 -0.41453262j]],\n",
      " [[-0.67081399-0.4934723j]\n",
      " [-0.40452544-0.3779588j]],\n",
      " [[-0.70984358-0.4440705j ]\n",
      " [-0.42800044-0.34020451j]],\n",
      " [[-0.7447919 -0.39176507j]\n",
      " [-0.44816172-0.30158951j]],\n",
      " [[-0.77550074-0.3368826j ]\n",
      " [-0.46502059-0.26242059j]],\n",
      " [[-0.80183843-0.27975318j]\n",
      " [-0.47860543-0.22300257j]],\n",
      " [[-0.82369595-0.22071382j]\n",
      " [-0.48897484-0.18361373j]],\n",
      " [[-0.84098875-0.16010155j]\n",
      " [-0.49620273-0.14452774j]],\n",
      " [[-0.85365495-0.09825771j]\n",
      " [-0.50038467-0.10598973j]],\n",
      " [[-0.86165446-0.03552116j]\n",
      " [-0.50163094-0.06823661j]],\n",
      " [[-0.86497004+0.02777239j]\n",
      " [-0.50006353-0.03149586j]],\n",
      " [[-0.86360434+0.09128637j]\n",
      " [-0.49582059+0.00403595j]],\n",
      " [[-0.85758036+0.15468868j]\n",
      " [-0.48905004+0.03817579j]],\n",
      " [[-0.84694068+0.21765215j]\n",
      " [-0.47990894+0.07075615j]],\n",
      " [[-0.83174686+0.27985369j]\n",
      " [-0.46856179+0.10163133j]],\n",
      " [[-0.81207745+0.34097818j]\n",
      " [-0.45518191+0.13066571j]],\n",
      " [[-0.78803075+0.40071485j]\n",
      " [-0.43994344+0.15774952j]],\n",
      " [[-0.75972182+0.45875934j]\n",
      " [-0.42302411+0.18279286j]],\n",
      " [[-0.7272818 +0.51481622j]\n",
      " [-0.40460505+0.20571874j]],\n",
      " [[-0.69085544+0.56860083j]\n",
      " [-0.38487449+0.22645857j]],\n",
      " [[-0.65060916+0.61983345j]\n",
      " [-0.3640076 +0.24497485j]],\n",
      " [[-0.60672203+0.66824438j]\n",
      " [-0.34218351+0.26124369j]],\n",
      " [[-0.55938657+0.71357688j]\n",
      " [-0.31958425+0.27524645j]],\n",
      " [[-0.50880845+0.75558487j]\n",
      " [-0.29639155+0.28697998j]],\n",
      " [[-0.45521273+0.79403108j]\n",
      " [-0.27277313+0.29646388j]],\n",
      " [[-0.39883834+0.82869097j]\n",
      " [-0.24889194+0.30373025j]],\n",
      " [[-0.33994034+0.85935266j]\n",
      " [-0.22490098+0.30882537j]],\n",
      " [[-0.27878208+0.88581914j]\n",
      " [-0.20095976+0.3118015j ]],\n",
      " [[-0.21564284+0.9079074j ]\n",
      " [-0.17721474+0.31272553j]],\n",
      " [[-0.15081415+0.92545007j]\n",
      " [-0.15380715+0.3116739j ]],\n",
      " [[-0.08460197+0.93829597j]\n",
      " [-0.13086699+0.30873454j]],\n",
      " [[-0.01732262+0.94631146j]\n",
      " [-0.10851985+0.30400328j]],\n",
      " [[ 0.05069235+0.94938153j]\n",
      " [-0.08687592+0.29758625j]],\n",
      " [[ 0.11910115+0.94741084j]\n",
      " [-0.06603838+0.28959721j]],\n",
      " [[ 0.18755753+0.940324j  ]\n",
      " [-0.04611312+0.28015448j]],\n",
      " [[ 0.25569571+0.92806938j]\n",
      " [-0.02717754+0.26938505j]],\n",
      " [[ 0.32314686+0.91061711j]\n",
      " [-0.00930983+0.25742165j]],\n",
      " [[0.38952856+0.88796481j]\n",
      " [0.00743092+0.2443988j ]],\n",
      " [[0.45445571+0.86013433j]\n",
      " [0.02298991+0.23045694j]],\n",
      " [[0.51753774+0.82717474j]\n",
      " [0.03732266+0.21573977j]],\n",
      " [[0.57837997+0.78916402j]\n",
      " [0.05039525+0.2003923j ]],\n",
      " [[0.63658308+0.74621216j]\n",
      " [0.06218881+0.18455881j]],\n",
      " [[0.69175026+0.6984579j]\n",
      " [0.07269062+0.1683871j]],\n",
      " [[0.7434851+0.64607417j]\n",
      " [0.0819004+0.15202104j]],\n",
      " [[0.79139397+0.58926904j]\n",
      " [0.08983048+0.13560263j]],\n",
      " [[0.8350928 +0.52828178j]\n",
      " [0.09649932+0.11927386j]],\n",
      " [[0.87420628+0.4633873j ]\n",
      " [0.10193604+0.10317286j]],\n",
      " [[0.90837053+0.39489798j]\n",
      " [0.1061811 +0.08743075j]],\n",
      " [[0.93723711+0.32316361j]\n",
      " [0.10928441+0.07217207j]],\n",
      " [[0.96047767+0.24856795j]\n",
      " [0.11130334+0.0575168j ]],\n",
      " [[0.97778614+0.17153201j]\n",
      " [0.11230372+0.04357641j]],\n",
      " [[0.98888312+0.09251023j]\n",
      " [0.11235867+0.03045577j]],\n",
      " [[0.99351912+0.01199616j]\n",
      " [0.11154811+0.01824451j]],\n",
      " [[0.99147941-0.06948673j]\n",
      " [0.10995825+0.00702557j]],\n",
      " [[0.98258783-0.15138146j]\n",
      " [0.10768014-0.00313079j]],\n",
      " [[0.96671061-0.23310448j]\n",
      " [0.10480901-0.01216452j]],\n",
      " [[0.94376072-0.31404435j]\n",
      " [0.10144289-0.0200298j ]],\n",
      " [[0.91370273-0.39356446j]\n",
      " [0.09768121-0.02669689j]],\n",
      " [[0.87655621-0.47100964j]\n",
      " [0.09362447-0.03214949j]],\n",
      " [[0.83239649-0.54571489j]\n",
      " [0.08937496-0.03637939j]],\n",
      " [[0.78136451-0.61699835j]\n",
      " [0.08502975-0.03940149j]],\n",
      " [[0.72366513-0.68417674j]\n",
      " [0.08068474-0.04124247j]],\n",
      " [[0.65957138-0.74656855j]\n",
      " [0.07643065-0.04194456j]],\n",
      " [[0.58942682-0.80350074j]\n",
      " [0.0723531 -0.04156451j]],\n",
      " [[0.51364742-0.8543161j ]\n",
      " [0.06853031-0.04017371j]],\n",
      " [[0.43272238-0.8983813j ]\n",
      " [0.06503206-0.03785795j]],\n",
      " [[0.34721234-0.93509595j]\n",
      " [0.06191997-0.03471421j]],\n",
      " [[0.25775267-0.96389931j]\n",
      " [0.05924304-0.03085367j]],\n",
      " [[0.16504913-0.98428067j]\n",
      " [0.05703951-0.0263976j ]],\n",
      " [[0.0698758 -0.99578819j]\n",
      " [0.05533541-0.02147667j]],\n",
      " [[-0.02692767-0.99803814j]\n",
      " [ 0.05414214-0.01622976j]],\n",
      " [[-0.12446233-0.99072437j]\n",
      " [ 0.05345737-0.01080127j]],\n",
      " [[-0.22177525-0.97362733j]\n",
      " [ 0.05326401-0.0053398j ]]]\n",
      ")\n"
     ]
    }
   ],
   "source": [
    "import numpy as np\n",
    "\n",
    "from qilisdk.analog import Schedule, X, Y, Z\n",
    "from qilisdk.backends import QutipBackend\n",
    "from qilisdk.common import ket, tensor_prod\n",
    "from qilisdk.functionals import TimeEvolution\n",
    "\n",
    "T = 10  # Total evolution time\n",
    "dt = 0.1  # Time-step\n",
    "steps = np.linspace(0, T, int(T / dt))\n",
    "nqubits = 1\n",
    "\n",
    "# Define two Hamiltonians for the simulation\n",
    "H1 = sum(X(i) for i in range(nqubits))\n",
    "H2 = sum(Z(i) for i in range(nqubits))\n",
    "\n",
    "# Create a schedule for the time evolution\n",
    "schedule = Schedule(\n",
    "    T,\n",
    "    dt,\n",
    "    hamiltonians={\"h1\": H1, \"h2\": H2},\n",
    "    schedule={\n",
    "        t: {\n",
    "            \"h1\": 1 - steps[t] / T,\n",
    "            \"h2\": steps[t] / T\n",
    "            } for t in range(len(steps))\n",
    "        },\n",
    ")\n",
    "\n",
    "# Prepare an initial state (equal superposition)\n",
    "state = tensor_prod([(ket(0) + ket(1)).unit() for _ in range(nqubits)]).unit()\n",
    "\n",
    "# Perform time evolution on the CUDA backend with observables to monitor\n",
    "time_evolution = TimeEvolution(\n",
    "    schedule=schedule,\n",
    "    initial_state=state,\n",
    "    observables=[Z(0), X(0), Y(0)],\n",
    "    store_intermediate_results=True\n",
    ")\n",
    "\n",
    "backend = QutipBackend()\n",
    "results = backend.execute(time_evolution)\n",
    "print(\"Time Evolution Results:\", results)"
   ]
  },
  {
   "cell_type": "markdown",
   "id": "4633cb07",
   "metadata": {},
   "source": [
    "## Building Models"
   ]
  },
  {
   "cell_type": "code",
   "execution_count": 5,
   "id": "110e541c",
   "metadata": {},
   "outputs": [],
   "source": [
    "from qilisdk.common.variables import BinaryVariable, Bitwise, Domain, SpinVariable, Variable\n",
    "\n",
    "x = Variable(\"x\", domain=Domain.REAL, bounds=(1, 2), encoding=Bitwise, precision=1e-1)\n",
    "s = SpinVariable(\"s\")\n",
    "b = BinaryVariable(\"b\")"
   ]
  },
  {
   "cell_type": "code",
   "execution_count": 6,
   "id": "71fe4584",
   "metadata": {},
   "outputs": [
    {
     "data": {
      "text/plain": [
       "(0.1) * x(0) + (0.2) * x(1) + (0.4) * x(2) + (0.30000000000000004) * x(3) + (1.0)"
      ]
     },
     "execution_count": 6,
     "metadata": {},
     "output_type": "execute_result"
    }
   ],
   "source": [
    "x.to_binary()"
   ]
  },
  {
   "cell_type": "code",
   "execution_count": 7,
   "id": "2835e303",
   "metadata": {},
   "outputs": [
    {
     "data": {
      "text/plain": [
       "1.2"
      ]
     },
     "execution_count": 7,
     "metadata": {},
     "output_type": "execute_result"
    }
   ],
   "source": [
    "x.evaluate([0, 1, 0, 0])"
   ]
  },
  {
   "cell_type": "markdown",
   "id": "7eed0b1d",
   "metadata": {},
   "source": [
    "Examples of building Terms from variables:"
   ]
  },
  {
   "cell_type": "code",
   "execution_count": 8,
   "id": "fe87d2da",
   "metadata": {},
   "outputs": [
    {
     "name": "stdout",
     "output_type": "stream",
     "text": [
      "t1:  (2) * x + (3)\n",
      "t2:  (3) * (x^2) + (2) * x + (4)\n",
      "t3:  (2) * x + b + (-1)\n",
      "t4:  (-1.0) + (-3.0) * (x^2)\n"
     ]
    }
   ],
   "source": [
    "t1 = 2 * x + 3\n",
    "print(\"t1: \", t1)\n",
    "t2 = 3 * x**2 + 2 * x + 4\n",
    "print(\"t2: \", t2)\n",
    "t3 = 2 * x + b - 1\n",
    "print(\"t3: \", t3)\n",
    "t4 = t1 - t2\n",
    "print(\"t4: \", t4)"
   ]
  },
  {
   "cell_type": "code",
   "execution_count": 9,
   "id": "0aea075d",
   "metadata": {},
   "outputs": [
    {
     "data": {
      "text/plain": [
       "2.0"
      ]
     },
     "execution_count": 9,
     "metadata": {},
     "output_type": "execute_result"
    }
   ],
   "source": [
    "t3.evaluate({\n",
    "    x: 1.5,\n",
    "    b: 0\n",
    "})"
   ]
  },
  {
   "cell_type": "code",
   "execution_count": 10,
   "id": "c83d8f43",
   "metadata": {},
   "outputs": [
    {
     "data": {
      "text/plain": [
       "(2) * x < (2.0)"
      ]
     },
     "execution_count": 10,
     "metadata": {},
     "output_type": "execute_result"
    }
   ],
   "source": [
    "from qilisdk.common.variables import LT\n",
    "\n",
    "LT(2 * x - 1, 1)"
   ]
  },
  {
   "cell_type": "code",
   "execution_count": 11,
   "id": "fc1d78c2",
   "metadata": {},
   "outputs": [
    {
     "name": "stdout",
     "output_type": "stream",
     "text": [
      "Model name: example_model \n",
      "objective (obj): \n",
      "\t minimize : \n",
      "\t (2) * x + (3) \n",
      "\n",
      "subject to the encoding constraint/s: \n",
      "\t x_upper_bound_constraint: x <= (2) \n",
      "\t x_lower_bound_constraint: x >= (1) \n",
      "\n",
      "With Lagrange Multiplier/s: \n",
      "\t x_upper_bound_constraint : 100 \n",
      "\t x_lower_bound_constraint : 100 \n",
      "\n"
     ]
    }
   ],
   "source": [
    "from qilisdk.common.model import Model, ObjectiveSense\n",
    "\n",
    "model = Model(\"example_model\")\n",
    "\n",
    "model.set_objective(2*x + 3, label=\"obj\", sense=ObjectiveSense.MINIMIZE)\n",
    "\n",
    "print(model)"
   ]
  },
  {
   "cell_type": "code",
   "execution_count": 12,
   "id": "9d01936c",
   "metadata": {},
   "outputs": [
    {
     "name": "stdout",
     "output_type": "stream",
     "text": [
      "Model name: example_model \n",
      "objective (obj): \n",
      "\t minimize : \n",
      "\t (2) * x + (3) \n",
      "\n",
      "subject to the encoding constraint/s: \n",
      "\t x_upper_bound_constraint: x <= (2) \n",
      "\t x_lower_bound_constraint: x >= (1) \n",
      "\n",
      "With Lagrange Multiplier/s: \n",
      "\t x_upper_bound_constraint : 1 \n",
      "\t x_lower_bound_constraint : 100 \n",
      "\n"
     ]
    }
   ],
   "source": [
    "model.set_lagrange_multiplier(\"x_upper_bound_constraint\", 1)\n",
    "\n",
    "print(model)"
   ]
  },
  {
   "cell_type": "code",
   "execution_count": 13,
   "id": "2d3a19c5",
   "metadata": {},
   "outputs": [
    {
     "name": "stdout",
     "output_type": "stream",
     "text": [
      "Model name: example_model \n",
      "objective (obj): \n",
      "\t minimize : \n",
      "\t (2) * x + (3) \n",
      "\n",
      "subject to the constraint/s: \n",
      "\t test_constraint: x < (1.5) \n",
      "\n",
      "subject to the encoding constraint/s: \n",
      "\t x_upper_bound_constraint: x <= (2) \n",
      "\t x_lower_bound_constraint: x >= (1) \n",
      "\n",
      "With Lagrange Multiplier/s: \n",
      "\t x_upper_bound_constraint : 1 \n",
      "\t x_lower_bound_constraint : 100 \n",
      "\t test_constraint : 10 \n",
      "\n"
     ]
    }
   ],
   "source": [
    "model.add_constraint(\"test_constraint\", LT(x, 1.5), lagrange_multiplier=10)\n",
    "print(model)"
   ]
  },
  {
   "cell_type": "code",
   "execution_count": 14,
   "id": "09281229",
   "metadata": {},
   "outputs": [
    {
     "data": {
      "text/plain": [
       "{'obj': 5.8, 'test_constraint': 0.0}"
      ]
     },
     "execution_count": 14,
     "metadata": {},
     "output_type": "execute_result"
    }
   ],
   "source": [
    "model.evaluate({\n",
    "    x: 1.4\n",
    "})"
   ]
  },
  {
   "cell_type": "code",
   "execution_count": 15,
   "id": "e50a6dd0",
   "metadata": {},
   "outputs": [
    {
     "data": {
      "text/plain": [
       "{'obj': 7.0, 'test_constraint': 10.0}"
      ]
     },
     "execution_count": 15,
     "metadata": {},
     "output_type": "execute_result"
    }
   ],
   "source": [
    "model.evaluate({x: 2})"
   ]
  },
  {
   "cell_type": "code",
   "execution_count": 16,
   "id": "fc1fed7b",
   "metadata": {},
   "outputs": [
    {
     "name": "stdout",
     "output_type": "stream",
     "text": [
      "Model name: example_qubo_model \n",
      "objective (obj): \n",
      "\t minimize : \n",
      "\t (2) * b + (3) \n",
      "\n",
      "subject to the constraint/s: \n",
      "\t qubo_constraint: (4.0) * (b * qubo_constraint_slack(0)) + (-1.0) * qubo_constraint_slack(0) == (-1.0) \n",
      "\n",
      "With Lagrange Multiplier/s: \n",
      "\t qubo_constraint : 10 \n",
      "\n"
     ]
    }
   ],
   "source": [
    "\n",
    "from qilisdk.common.model import QUBO, ObjectiveSense\n",
    "\n",
    "model = QUBO(\"example_qubo_model\")\n",
    "model.set_objective(2 * b + 3, label=\"obj\", sense=ObjectiveSense.MINIMIZE)\n",
    "\n",
    "model.add_constraint(\"qubo_constraint\", LT(2 * b, 1), lagrange_multiplier=10, penalization=\"slack\", transform_to_qubo=True)\n",
    "\n",
    "print(model)"
   ]
  },
  {
   "cell_type": "code",
   "execution_count": 17,
   "id": "ce53f303",
   "metadata": {},
   "outputs": [
    {
     "name": "stdout",
     "output_type": "stream",
     "text": [
      "obj: (2) * b + (13.0) + (40.0) * (b * qubo_constraint_slack(0)) + (-10.0) * qubo_constraint_slack(0)\n"
     ]
    }
   ],
   "source": [
    "print(model.qubo_objective)"
   ]
  },
  {
   "cell_type": "code",
   "execution_count": 18,
   "id": "d9f6d9e9",
   "metadata": {},
   "outputs": [
    {
     "name": "stdout",
     "output_type": "stream",
     "text": [
      "Model name: example_qubo_model \n",
      "objective (obj): \n",
      "\t minimize : \n",
      "\t (2) * b + (3) \n",
      "\n",
      "subject to the constraint/s: \n",
      "\t qubo_constraint: (2.0) * b == (-1.0) \n",
      "\n",
      "With Lagrange Multiplier/s: \n",
      "\t qubo_constraint : 1 \n",
      "\n"
     ]
    }
   ],
   "source": [
    "from qilisdk.common.model import QUBO, ObjectiveSense\n",
    "\n",
    "model = QUBO(\"example_qubo_model\")\n",
    "model.set_objective(2 * b + 3, label=\"obj\", sense=ObjectiveSense.MINIMIZE)\n",
    "\n",
    "model.add_constraint(\n",
    "    \"qubo_constraint\", LT(2 * b, 1), lagrange_multiplier=1, penalization=\"unbalanced\", parameters=[1, 2], transform_to_qubo=True\n",
    ")\n",
    "\n",
    "print(model)"
   ]
  },
  {
   "cell_type": "code",
   "execution_count": 23,
   "id": "b2856665",
   "metadata": {},
   "outputs": [
    {
     "data": {
      "text/plain": [
       "obj: (4.0) * b + (4.0)"
      ]
     },
     "execution_count": 23,
     "metadata": {},
     "output_type": "execute_result"
    }
   ],
   "source": [
    "model.qubo_objective"
   ]
  },
  {
   "cell_type": "markdown",
   "id": "fc1d8d5a",
   "metadata": {},
   "source": [
    "## Quantum Objects"
   ]
  },
  {
   "cell_type": "code",
   "execution_count": null,
   "id": "300db25e",
   "metadata": {},
   "outputs": [
    {
     "name": "stdout",
     "output_type": "stream",
     "text": [
      "[[1]\n",
      " [0]] True\n",
      "----------\n",
      "[[1 0]] True\n",
      "----------\n",
      "[[1 0]\n",
      " [0 0]] True\n",
      "----------\n"
     ]
    }
   ],
   "source": [
    "from qilisdk.common.quantum_objects import QuantumObject\n",
    "\n",
    "psi = QuantumObject(np.array(\n",
    "    [[1],\n",
    "     [0]]\n",
    "    ))\n",
    "print(psi, psi.is_ket())\n",
    "print(\"-\" * 10)\n",
    "\n",
    "psi = QuantumObject(np.array([1, 0]))\n",
    "print(psi, psi.is_bra())\n",
    "print(\"-\" * 10)\n",
    "\n",
    "psi = QuantumObject(np.array([[1, 0], [0, 0]]))\n",
    "print(psi, psi.is_density_matrix())\n",
    "print(\"-\" * 10)"
   ]
  },
  {
   "cell_type": "code",
   "execution_count": null,
   "id": "35b3abc2",
   "metadata": {},
   "outputs": [],
   "source": [
    "from qilisdk.common.quantum_objects import ket, bra, basis_state\n",
    "\n",
    "psi = ket(0)\n",
    "print(psi, psi.is_ket())\n",
    "print(\"-\" * 10)"
   ]
  },
  {
   "cell_type": "code",
   "execution_count": null,
   "id": "813b6960",
   "metadata": {},
   "outputs": [],
   "source": []
  },
  {
   "cell_type": "code",
   "execution_count": 20,
   "id": "83bc1368",
   "metadata": {},
   "outputs": [
    {
     "name": "stdout",
     "output_type": "stream",
     "text": [
      "rho_A trace: 1.0\n",
      "rho_A equals I/2? [[0.5 0. ]\n",
      " [0.  0.5]]\n",
      "⟨ZZ⟩: 1.0\n"
     ]
    }
   ],
   "source": [
    "from qilisdk.common.quantum_objects import QuantumObject, basis_state, ket, bra, tensor_prod, expect_val\n",
    "import numpy as np\n",
    "\n",
    "# 1) Create a Bell state |Φ+> = (|00> + |11>)/√2\n",
    "zero = basis_state(0, 2)\n",
    "one = basis_state(1, 2)\n",
    "bell = (tensor_prod([zero, zero]) + tensor_prod([one, one])).unit()\n",
    "\n",
    "# 2) Verify partial trace yields maximally mixed one‑qubit state\n",
    "rho_bell = bell.to_density_matrix()\n",
    "rho_A = rho_bell.ptrace([0])  # trace out qubit B\n",
    "print(\"rho_A trace:\", rho_A.dense.trace())  # should ≈ 1\n",
    "print(\"rho_A equals I/2?\", rho_A.dense)  # ≈ [[0.5,0],[0,0.5]]\n",
    "\n",
    "# 3) Compute expectation of Z⊗Z on the Bell state\n",
    "Z = QuantumObject(np.array([[1, 0], [0, -1]]))\n",
    "ZZ = tensor_prod([Z, Z])\n",
    "ev_ZZ = expect_val(ZZ, rho_bell)\n",
    "print(\"⟨ZZ⟩:\", ev_ZZ)  # should be +1"
   ]
  },
  {
   "cell_type": "markdown",
   "id": "828f727a",
   "metadata": {},
   "source": [
    "## Exporting and Importing Circuits"
   ]
  },
  {
   "cell_type": "code",
   "execution_count": 21,
   "id": "e50a27b6",
   "metadata": {},
   "outputs": [
    {
     "name": "stdout",
     "output_type": "stream",
     "text": [
      "Generated QASM:\n",
      "OPENQASM 2.0;\n",
      "include \"qelib1.inc\";\n",
      "qreg q[3];\n",
      "creg c[3];\n",
      "h q[0];\n",
      "cx q[0], q[1];\n",
      "rx(3.141592653589793) q[2];\n",
      "measure q -> c;\n"
     ]
    }
   ],
   "source": [
    "import numpy as np\n",
    "\n",
    "from qilisdk.digital import CNOT, RX, Circuit, H\n",
    "from qilisdk.utils.openqasm2 import from_qasm2, from_qasm2_file, to_qasm2, to_qasm2_file\n",
    "\n",
    "# Create a sample circuit\n",
    "circuit = Circuit(3)\n",
    "circuit.add(H(0))\n",
    "circuit.add(CNOT(0, 1))\n",
    "circuit.add(RX(2, theta=np.pi))\n",
    "circuit.add(M(0, 1, 2))\n",
    "\n",
    "# Serialize to QASM string\n",
    "qasm_code = to_qasm2(circuit)\n",
    "print(\"Generated QASM:\")\n",
    "print(qasm_code)\n",
    "\n",
    "# Deserialize back to a circuit\n",
    "reconstructed_circuit = from_qasm2(qasm_code)\n",
    "\n",
    "# Save to and load from a file\n",
    "to_qasm2_file(circuit, \"circuit.qasm\")\n",
    "reconstructed_circuit = from_qasm2_file(\"circuit.qasm\")"
   ]
  },
  {
   "cell_type": "markdown",
   "id": "46a6fac8",
   "metadata": {},
   "source": [
    "## Serialization"
   ]
  },
  {
   "cell_type": "code",
   "execution_count": 22,
   "id": "cba94f26",
   "metadata": {},
   "outputs": [],
   "source": [
    "from qilisdk.digital import CNOT, Circuit, H, M\n",
    "from qilisdk.utils.serialization import deserialize, deserialize_from, serialize, serialize_to\n",
    "\n",
    "circuit = Circuit(2)\n",
    "circuit.add(H(0))\n",
    "circuit.add(CNOT(0, 1))\n",
    "circuit.add(M(0, 1))\n",
    "\n",
    "# Serialize a circuit to a YAML string\n",
    "yaml_string = serialize(circuit)\n",
    "\n",
    "# Deserialize back into a Circuit object\n",
    "restored_circuit = deserialize(yaml_string, cls=Circuit)\n",
    "\n",
    "# Alternatively, work with files:\n",
    "serialize_to(circuit, 'circuit.yml')\n",
    "restored_circuit = deserialize_from('circuit.yml', cls=Circuit)"
   ]
  }
 ],
 "metadata": {
  "kernelspec": {
   "display_name": "qilisdk",
   "language": "python",
   "name": "python3"
  },
  "language_info": {
   "codemirror_mode": {
    "name": "ipython",
    "version": 3
   },
   "file_extension": ".py",
   "mimetype": "text/x-python",
   "name": "python",
   "nbconvert_exporter": "python",
   "pygments_lexer": "ipython3",
   "version": "3.10.16"
  }
 },
 "nbformat": 4,
 "nbformat_minor": 5
}
