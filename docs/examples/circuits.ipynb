{
 "cells": [
  {
   "cell_type": "markdown",
   "id": "bd9e77b9",
   "metadata": {},
   "source": [
    "# Circuits"
   ]
  },
  {
   "cell_type": "code",
   "execution_count": 1,
   "id": "bf2aed4f",
   "metadata": {},
   "outputs": [
    {
     "name": "stdout",
     "output_type": "stream",
     "text": [
      "Initial parameters: [3.141592653589793]\n",
      "Simulation Results:\n",
      "SamplingResult(\n",
      "  nshots=1000,\n",
      "  samples={'00': 491, '11': 509}\n",
      ")\n",
      "Probabilities: {'00': 0.491, '11': 0.509}\n"
     ]
    }
   ],
   "source": [
    "import numpy as np\n",
    "\n",
    "from qilisdk.backends import QutipBackend\n",
    "from qilisdk.digital import CNOT, RX, Circuit, H, M\n",
    "from qilisdk.functionals import Sampling\n",
    "\n",
    "# Create a circuit with 2 qubits\n",
    "circuit = Circuit(2)\n",
    "circuit.add(H(0))  # Apply Hadamard on qubit 0\n",
    "circuit.add(RX(0, theta=np.pi))  # Apply RX rotation on qubit 0con\n",
    "circuit.add(CNOT(0, 1))  # Add a CNOT gate between qubit 0 and 1\n",
    "\n",
    "# Retrieve the current gate parameters\n",
    "print(\"Initial parameters:\", circuit.get_parameter_values())\n",
    "\n",
    "# Update circuit parameters (e.g., update RX rotation angle)\n",
    "circuit.set_parameter_values([2 * np.pi])\n",
    "\n",
    "# Execute the circuit simulation using QutipBackend\n",
    "backend = QutipBackend()\n",
    "results = backend.execute(Sampling(circuit))\n",
    "\n",
    "# Display the simulation output and measurement probabilities\n",
    "print(\"Simulation Results:\")\n",
    "print(results)\n",
    "print(\"Probabilities:\", results.probabilities)"
   ]
  },
  {
   "cell_type": "markdown",
   "id": "8df2ac29",
   "metadata": {},
   "source": [
    "## OpenQASM 2.0 Interoperability"
   ]
  },
  {
   "cell_type": "code",
   "execution_count": 2,
   "id": "5caa9c38",
   "metadata": {},
   "outputs": [
    {
     "name": "stdout",
     "output_type": "stream",
     "text": [
      "Generated QASM:\n",
      "OPENQASM 2.0;\n",
      "include \"qelib1.inc\";\n",
      "qreg q[3];\n",
      "creg c[3];\n",
      "h q[0];\n",
      "cx q[0], q[1];\n",
      "rx(3.141592653589793) q[2];\n",
      "measure q -> c;\n"
     ]
    }
   ],
   "source": [
    "import numpy as np\n",
    "\n",
    "from qilisdk.digital import CNOT, RX, Circuit, H\n",
    "from qilisdk.utils.openqasm2 import from_qasm2, from_qasm2_file, to_qasm2, to_qasm2_file\n",
    "\n",
    "# Create a sample circuit\n",
    "circuit = Circuit(3)\n",
    "circuit.add(H(0))\n",
    "circuit.add(CNOT(0, 1))\n",
    "circuit.add(RX(2, theta=np.pi))\n",
    "circuit.add(M(0, 1, 2))\n",
    "\n",
    "# Serialize to QASM string\n",
    "qasm_code = to_qasm2(circuit)\n",
    "print(\"Generated QASM:\")\n",
    "print(qasm_code)\n",
    "\n",
    "# Deserialize back to a circuit\n",
    "reconstructed_circuit = from_qasm2(qasm_code)\n",
    "\n",
    "# Save to and load from a file\n",
    "to_qasm2_file(circuit, \"circuit.qasm\")\n",
    "reconstructed_circuit = from_qasm2_file(\"circuit.qasm\")"
   ]
  }
 ],
 "metadata": {
  "kernelspec": {
   "display_name": "qilisdk",
   "language": "python",
   "name": "python3"
  },
  "language_info": {
   "codemirror_mode": {
    "name": "ipython",
    "version": 3
   },
   "file_extension": ".py",
   "mimetype": "text/x-python",
   "name": "python",
   "nbconvert_exporter": "python",
   "pygments_lexer": "ipython3",
   "version": "3.10.18"
  }
 },
 "nbformat": 4,
 "nbformat_minor": 5
}
