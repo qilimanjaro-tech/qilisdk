{
 "cells": [
  {
   "cell_type": "markdown",
   "id": "b3d0d6e5",
   "metadata": {},
   "source": [
    "# Models"
   ]
  },
  {
   "cell_type": "code",
   "execution_count": 2,
   "id": "204c90b6",
   "metadata": {},
   "outputs": [],
   "source": [
    "from qilisdk.common.variables import BinaryVariable, Bitwise, Domain, SpinVariable, Variable\n",
    "\n",
    "x = Variable(\"x\", domain=Domain.REAL, bounds=(1, 2), encoding=Bitwise, precision=1e-1)\n",
    "s = SpinVariable(\"s\")\n",
    "b = BinaryVariable(\"b\")"
   ]
  },
  {
   "cell_type": "code",
   "execution_count": 3,
   "id": "d20f162d",
   "metadata": {},
   "outputs": [
    {
     "data": {
      "text/plain": [
       "(0.1) * x(0) + (0.2) * x(1) + (0.4) * x(2) + (0.30000000000000004) * x(3) + (1.0)"
      ]
     },
     "execution_count": 3,
     "metadata": {},
     "output_type": "execute_result"
    }
   ],
   "source": [
    "x.to_binary()"
   ]
  },
  {
   "cell_type": "code",
   "execution_count": 4,
   "id": "2322989e",
   "metadata": {},
   "outputs": [
    {
     "data": {
      "text/plain": [
       "1.2"
      ]
     },
     "execution_count": 4,
     "metadata": {},
     "output_type": "execute_result"
    }
   ],
   "source": [
    "x.evaluate([0, 1, 0, 0])"
   ]
  },
  {
   "cell_type": "markdown",
   "id": "3cba3dca",
   "metadata": {},
   "source": [
    "## Building Terms from Variables"
   ]
  },
  {
   "cell_type": "code",
   "execution_count": 5,
   "id": "bd7f6f8a",
   "metadata": {},
   "outputs": [
    {
     "name": "stdout",
     "output_type": "stream",
     "text": [
      "t1:  (2) * x + (3)\n",
      "t2:  (3) * (x^2) + (2) * x + (4)\n",
      "t3:  (2) * x + b + (-1)\n",
      "t4:  (-1.0) + (-3.0) * (x^2)\n"
     ]
    }
   ],
   "source": [
    "t1 = 2 * x + 3\n",
    "print(\"t1: \", t1)\n",
    "t2 = 3 * x**2 + 2 * x + 4\n",
    "print(\"t2: \", t2)\n",
    "t3 = 2 * x + b - 1\n",
    "print(\"t3: \", t3)\n",
    "t4 = t1 - t2\n",
    "print(\"t4: \", t4)"
   ]
  },
  {
   "cell_type": "code",
   "execution_count": 6,
   "id": "ee60d7e3",
   "metadata": {},
   "outputs": [
    {
     "data": {
      "text/plain": [
       "2.0"
      ]
     },
     "execution_count": 6,
     "metadata": {},
     "output_type": "execute_result"
    }
   ],
   "source": [
    "t3.evaluate({x: 1.5, b: 0})"
   ]
  },
  {
   "cell_type": "code",
   "execution_count": 7,
   "id": "2b80b304",
   "metadata": {},
   "outputs": [
    {
     "data": {
      "text/plain": [
       "(2) * x < (2.0)"
      ]
     },
     "execution_count": 7,
     "metadata": {},
     "output_type": "execute_result"
    }
   ],
   "source": [
    "from qilisdk.common.variables import LT\n",
    "\n",
    "LT(2 * x - 1, 1)"
   ]
  },
  {
   "cell_type": "code",
   "execution_count": 8,
   "id": "ed69df0b",
   "metadata": {},
   "outputs": [
    {
     "name": "stdout",
     "output_type": "stream",
     "text": [
      "Model name: example_model \n",
      "objective (obj): \n",
      "\t minimize : \n",
      "\t (2) * x + (3) \n",
      "\n",
      "subject to the encoding constraint/s: \n",
      "\t x_upper_bound_constraint: x <= (2) \n",
      "\t x_lower_bound_constraint: x >= (1) \n",
      "\n",
      "With Lagrange Multiplier/s: \n",
      "\t x_upper_bound_constraint : 100 \n",
      "\t x_lower_bound_constraint : 100 \n",
      "\n"
     ]
    }
   ],
   "source": [
    "from qilisdk.common.model import Model, ObjectiveSense\n",
    "\n",
    "model = Model(\"example_model\")\n",
    "\n",
    "model.set_objective(2 * x + 3, label=\"obj\", sense=ObjectiveSense.MINIMIZE)\n",
    "\n",
    "print(model)"
   ]
  },
  {
   "cell_type": "code",
   "execution_count": 9,
   "id": "ed3e5f3b",
   "metadata": {},
   "outputs": [
    {
     "name": "stdout",
     "output_type": "stream",
     "text": [
      "Model name: example_model \n",
      "objective (obj): \n",
      "\t minimize : \n",
      "\t (2) * x + (3) \n",
      "\n",
      "subject to the encoding constraint/s: \n",
      "\t x_upper_bound_constraint: x <= (2) \n",
      "\t x_lower_bound_constraint: x >= (1) \n",
      "\n",
      "With Lagrange Multiplier/s: \n",
      "\t x_upper_bound_constraint : 1 \n",
      "\t x_lower_bound_constraint : 100 \n",
      "\n"
     ]
    }
   ],
   "source": [
    "model.set_lagrange_multiplier(\"x_upper_bound_constraint\", 1)\n",
    "\n",
    "print(model)"
   ]
  },
  {
   "cell_type": "code",
   "execution_count": 10,
   "id": "a06a9c5c",
   "metadata": {},
   "outputs": [
    {
     "name": "stdout",
     "output_type": "stream",
     "text": [
      "Model name: example_model \n",
      "objective (obj): \n",
      "\t minimize : \n",
      "\t (2) * x + (3) \n",
      "\n",
      "subject to the constraint/s: \n",
      "\t test_constraint: x < (1.5) \n",
      "\n",
      "subject to the encoding constraint/s: \n",
      "\t x_upper_bound_constraint: x <= (2) \n",
      "\t x_lower_bound_constraint: x >= (1) \n",
      "\n",
      "With Lagrange Multiplier/s: \n",
      "\t x_upper_bound_constraint : 1 \n",
      "\t x_lower_bound_constraint : 100 \n",
      "\t test_constraint : 10 \n",
      "\n"
     ]
    }
   ],
   "source": [
    "model.add_constraint(\"test_constraint\", LT(x, 1.5), lagrange_multiplier=10)\n",
    "print(model)"
   ]
  },
  {
   "cell_type": "code",
   "execution_count": 11,
   "id": "1af17144",
   "metadata": {},
   "outputs": [
    {
     "data": {
      "text/plain": [
       "{'obj': 5.8, 'test_constraint': 0.0}"
      ]
     },
     "execution_count": 11,
     "metadata": {},
     "output_type": "execute_result"
    }
   ],
   "source": [
    "model.evaluate({x: 1.4})"
   ]
  },
  {
   "cell_type": "code",
   "execution_count": 12,
   "id": "9da8e077",
   "metadata": {},
   "outputs": [
    {
     "data": {
      "text/plain": [
       "{'obj': 7.0, 'test_constraint': 10.0}"
      ]
     },
     "execution_count": 12,
     "metadata": {},
     "output_type": "execute_result"
    }
   ],
   "source": [
    "model.evaluate({x: 2})"
   ]
  },
  {
   "cell_type": "markdown",
   "id": "9c569e75",
   "metadata": {},
   "source": [
    "## QUBO"
   ]
  },
  {
   "cell_type": "code",
   "execution_count": 13,
   "id": "159c98fa",
   "metadata": {},
   "outputs": [
    {
     "name": "stdout",
     "output_type": "stream",
     "text": [
      "Model name: example_qubo_model \n",
      "objective (obj): \n",
      "\t minimize : \n",
      "\t (2) * b + (3) \n",
      "\n",
      "subject to the constraint/s: \n",
      "\t qubo_constraint: (4.0) * (b * qubo_constraint_slack(0)) + (-1.0) * qubo_constraint_slack(0) == (-1.0) \n",
      "\n",
      "With Lagrange Multiplier/s: \n",
      "\t qubo_constraint : 10 \n",
      "\n"
     ]
    }
   ],
   "source": [
    "from qilisdk.common.model import QUBO, ObjectiveSense\n",
    "\n",
    "model = QUBO(\"example_qubo_model\")\n",
    "model.set_objective(2 * b + 3, label=\"obj\", sense=ObjectiveSense.MINIMIZE)\n",
    "\n",
    "model.add_constraint(\n",
    "    \"qubo_constraint\", LT(2 * b, 1), lagrange_multiplier=10, penalization=\"slack\", transform_to_qubo=True\n",
    ")\n",
    "\n",
    "print(model)"
   ]
  },
  {
   "cell_type": "code",
   "execution_count": 14,
   "id": "a457725f",
   "metadata": {},
   "outputs": [
    {
     "name": "stdout",
     "output_type": "stream",
     "text": [
      "obj: (2) * b + (13.0) + (40.0) * (b * qubo_constraint_slack(0)) + (-10.0) * qubo_constraint_slack(0)\n"
     ]
    }
   ],
   "source": [
    "print(model.qubo_objective)"
   ]
  },
  {
   "cell_type": "code",
   "execution_count": 15,
   "id": "ffb18929",
   "metadata": {},
   "outputs": [
    {
     "name": "stdout",
     "output_type": "stream",
     "text": [
      "Model name: example_qubo_model \n",
      "objective (obj): \n",
      "\t minimize : \n",
      "\t (2) * b + (3) \n",
      "\n",
      "subject to the constraint/s: \n",
      "\t qubo_constraint: (2.0) * b == (-1.0) \n",
      "\n",
      "With Lagrange Multiplier/s: \n",
      "\t qubo_constraint : 1 \n",
      "\n"
     ]
    }
   ],
   "source": [
    "from qilisdk.common.model import QUBO, ObjectiveSense\n",
    "\n",
    "model = QUBO(\"example_qubo_model\")\n",
    "model.set_objective(2 * b + 3, label=\"obj\", sense=ObjectiveSense.MINIMIZE)\n",
    "\n",
    "model.add_constraint(\n",
    "    \"qubo_constraint\",\n",
    "    LT(2 * b, 1),\n",
    "    lagrange_multiplier=1,\n",
    "    penalization=\"unbalanced\",\n",
    "    parameters=[1, 2],\n",
    "    transform_to_qubo=True,\n",
    ")\n",
    "\n",
    "print(model)"
   ]
  },
  {
   "cell_type": "code",
   "execution_count": 16,
   "id": "134f9918",
   "metadata": {},
   "outputs": [
    {
     "data": {
      "text/plain": [
       "obj: (4.0) * b + (4.0)"
      ]
     },
     "execution_count": 16,
     "metadata": {},
     "output_type": "execute_result"
    }
   ],
   "source": [
    "model.qubo_objective"
   ]
  }
 ],
 "metadata": {
  "kernelspec": {
   "display_name": "qilisdk",
   "language": "python",
   "name": "python3"
  },
  "language_info": {
   "codemirror_mode": {
    "name": "ipython",
    "version": 3
   },
   "file_extension": ".py",
   "mimetype": "text/x-python",
   "name": "python",
   "nbconvert_exporter": "python",
   "pygments_lexer": "ipython3",
   "version": "3.10.18"
  }
 },
 "nbformat": 4,
 "nbformat_minor": 5
}
