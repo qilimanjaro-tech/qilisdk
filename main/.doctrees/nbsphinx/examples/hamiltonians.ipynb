{
 "cells": [
  {
   "cell_type": "markdown",
   "id": "658c5f62",
   "metadata": {},
   "source": [
    "# Hamiltonians"
   ]
  },
  {
   "cell_type": "code",
   "execution_count": 1,
   "id": "a4e0cc3d",
   "metadata": {},
   "outputs": [
    {
     "name": "stdout",
     "output_type": "stream",
     "text": [
      "Hamiltonian Expression: -2j Y(0)\n",
      "Coefficient: -2j Operators: [Y(0)]\n",
      "True\n"
     ]
    }
   ],
   "source": [
    "from qilisdk.analog import Hamiltonian, X, Z\n",
    "\n",
    "# Build a Hamiltonian expression using Pauli operators\n",
    "H_expr = (Z(0) + X(0)) * (Z(0) - X(0))\n",
    "print(\"Hamiltonian Expression:\", H_expr)\n",
    "\n",
    "# Iterate over Hamiltonian terms\n",
    "for coeff, ops in H_expr:\n",
    "    print(\"Coefficient:\", coeff, \"Operators:\", ops)\n",
    "\n",
    "# Parse a Hamiltonian from its string representation\n",
    "parsed_H = Hamiltonian.parse(\"-2j Y(0)\")\n",
    "print(H_expr == parsed_H)"
   ]
  },
  {
   "cell_type": "code",
   "execution_count": 2,
   "id": "0edd3b18",
   "metadata": {},
   "outputs": [
    {
     "name": "stdout",
     "output_type": "stream",
     "text": [
      "3 Z(0) - 2j Y(1) + 3 Z(1)\n",
      "(3+0j) [Z(0)]\n",
      "-2j [Y(1)]\n",
      "(3+0j) [Z(1)]\n"
     ]
    }
   ],
   "source": [
    "H = Z(0) + 2 * X(1) * Z(1) + 3 * Z(1) + 2 * Z(0)\n",
    "\n",
    "print(H)\n",
    "for coeff, op in H:\n",
    "    print(coeff, op)"
   ]
  }
 ],
 "metadata": {
  "kernelspec": {
   "display_name": "qilisdk",
   "language": "python",
   "name": "python3"
  },
  "language_info": {
   "codemirror_mode": {
    "name": "ipython",
    "version": 3
   },
   "file_extension": ".py",
   "mimetype": "text/x-python",
   "name": "python",
   "nbconvert_exporter": "python",
   "pygments_lexer": "ipython3",
   "version": "3.10.18"
  }
 },
 "nbformat": 4,
 "nbformat_minor": 5
}
